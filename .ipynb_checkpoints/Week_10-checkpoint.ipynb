{
 "cells": [
  {
   "cell_type": "markdown",
   "metadata": {},
   "source": [
    "## Exercise meanshift\n",
    "1. load 'data/iris_data.csv' into a dataframe (use decimal=',') and remove the 2 Petal columns. Now we are left with a 2D feature space\n",
    "2. get unique labels (Species column)\n",
    "3. plot with a scatter plot each iris flower sample colored by label (3 different colors)\n",
    "\n",
    "4. use: MeanShift and estimate_bandwidth from sklearn.cluster to first estimate bandwidth and then get the clusters (HINT: estimate_bandwidth() takes an argument: quantile set it to 0.2 for best result)\n",
    "5. print out labels, cluster centers and number of clusters (as returned from the MeanShift function)\n",
    "5. create a new scatter plot where each flower is colored according to cluster label\n",
    "6. add a dot for the cluster centers\n",
    "7. Compare the 2 plots (colored by actual labels vs. colored by cluster label)\n",
    "8. Try changing the 'quantile' argument to 0.15 and see what happens to your cluster plot."
   ]
  },
  {
   "cell_type": "code",
   "execution_count": 1,
   "metadata": {},
   "outputs": [
    {
     "name": "stdout",
     "output_type": "stream",
     "text": [
      "     Sepal length  Sepal width       Species\n",
      "0             5.1          3.5     I. setosa\n",
      "1             4.9          3.0     I. setosa\n",
      "2             4.7          3.2     I. setosa\n",
      "3             4.6          3.1     I. setosa\n",
      "4             5.0          3.6     I. setosa\n",
      "..            ...          ...           ...\n",
      "145           6.7          3.0  I. virginica\n",
      "146           6.3          2.5  I. virginica\n",
      "147           6.5          3.0  I. virginica\n",
      "148           6.2          3.4  I. virginica\n",
      "149           5.9          3.0  I. virginica\n",
      "\n",
      "[150 rows x 3 columns]\n"
     ]
    }
   ],
   "source": [
    "#load 'data/iris_data.csv' into a dataframe (use decimal=',') and remove the 2 Petal columns. Now we are left with a 2D feature space\n",
    "import pandas as pd\n",
    "df = pd.read_csv('../data/iris_data.csv', decimal=\",\")\n",
    "\n",
    "df.drop('Petal length', inplace=True, axis=1)\n",
    "df.drop('Petal width', inplace=True, axis=1)\n",
    "print(df)\n"
   ]
  },
  {
   "cell_type": "code",
   "execution_count": 2,
   "metadata": {},
   "outputs": [
    {
     "data": {
      "text/plain": [
       "array(['I. setosa', 'I. versicolor', 'I. virginica'], dtype=object)"
      ]
     },
     "execution_count": 2,
     "metadata": {},
     "output_type": "execute_result"
    }
   ],
   "source": [
    "#get unique labels (Species column)\n",
    "uniqueSpecies = df['Species'].unique()\n",
    "uniqueSpecies\n"
   ]
  },
  {
   "cell_type": "code",
   "execution_count": 3,
   "metadata": {},
   "outputs": [
    {
     "data": {
      "image/png": "[encoded data removed]",
      "text/plain": [
       "<Figure size 432x288 with 1 Axes>"
      ]
     },
     "metadata": {
      "needs_background": "light"
     },
     "output_type": "display_data"
    }
   ],
   "source": [
    "#plot with a scatter plot each iris flower sample colored by label (3 different colors)\n",
    "import matplotlib.pyplot as plt\n",
    "\n",
    "fig, ax = plt.subplots()\n",
    "\n",
    "colors = {'I. setosa':'red', 'I. versicolor':'green', 'I. virginica':'blue'}\n",
    "\n",
    "ax.scatter(df['Sepal length'], df['Sepal width'], c=df['Species'].map(colors))\n",
    "\n",
    "plt.xticks(rotation=90, horizontalalignment='right',fontweight='light')\n",
    "plt.show()"
   ]
  },
  {
   "cell_type": "code",
   "execution_count": 34,
   "metadata": {},
   "outputs": [
    {
     "name": "stdout",
     "output_type": "stream",
     "text": [
      "Number of estimated clusters : 3\n"
     ]
    }
   ],
   "source": [
    "#use: MeanShift and estimate_bandwidth from sklearn.cluster to first estimate bandwidth and then get the clusters (HINT: estimate_bandwidth() takes an argument: quantile set it to 0.2 for best result)\n",
    "from pandas import DataFrame\n",
    "import matplotlib.pyplot as plt\n",
    "from sklearn.cluster import KMeans\n",
    "from sklearn.cluster import MeanShift, estimate_bandwidth\n",
    "import numpy as np\n",
    "\n",
    "#df.drop('Species', axis=1, inplace=True)\n",
    "\n",
    "\n",
    "def mean_shift(data, n_samples=1000):\n",
    "    bandwidth = estimate_bandwidth(data, quantile=0.2, \n",
    "                                   n_samples=n_samples)\n",
    "\n",
    "    ms = MeanShift(bandwidth=bandwidth, bin_seeding=True)\n",
    "    ms.fit(data)\n",
    "    labels = ms.labels_\n",
    "    cluster_centers = ms.cluster_centers_\n",
    "\n",
    "    labels_unique = np.unique(labels)\n",
    "    n_clusters = len(labels_unique)\n",
    "\n",
    "    print('Number of estimated clusters : {}'.format(n_clusters))\n",
    "    \n",
    "    return labels, cluster_centers, n_clusters\n",
    "labels, cluster_centers, n_clusters = mean_shift(df)\n"
   ]
  },
  {
   "cell_type": "code",
   "execution_count": 32,
   "metadata": {},
   "outputs": [
    {
     "name": "stdout",
     "output_type": "stream",
     "text": [
      "[2 2 2 2 2 2 2 2 2 2 2 2 2 2 2 2 2 2 2 2 2 2 2 2 2 2 2 2 2 2 2 2 2 2 2 2 2\n",
      " 2 2 2 2 4 2 2 2 2 2 2 2 2 3 0 0 4 0 1 0 4 0 4 4 1 1 1 1 0 1 1 1 1 1 1 1 1\n",
      " 0 0 0 0 1 1 4 4 1 1 1 1 0 1 1 1 1 1 1 4 1 1 1 0 4 1 0 1 3 0 0 3 4 3 0 5 0\n",
      " 0 0 1 1 0 0 5 3 1 0 1 3 0 0 3 1 1 0 3 3 5 0 0 1 3 0 0 1 0 0 0 1 0 0 0 1 0\n",
      " 0 1]\n",
      "--------------\n",
      "[[6.4902439  3.01463415]\n",
      " [5.88055556 2.81388889]\n",
      " [4.96388889 3.375     ]\n",
      " [7.43333333 2.92222222]\n",
      " [4.94285714 2.38571429]\n",
      " [7.8        3.8       ]]\n",
      "--------------\n",
      "6\n"
     ]
    }
   ],
   "source": [
    "#print out labels, cluster centers and number of clusters (as returned from the MeanShift function)\n",
    "print(labels)\n",
    "print(\"--------------\")\n",
    "print(cluster_centers)\n",
    "print(\"--------------\")\n",
    "print(n_clusters)"
   ]
  },
  {
   "cell_type": "code",
   "execution_count": 43,
   "metadata": {},
   "outputs": [
    {
     "name": "stdout",
     "output_type": "stream",
     "text": [
      "Number of estimated clusters : 3\n"
     ]
    },
    {
     "data": {
      "image/png": "[encoded data removed]",
      "text/plain": [
       "<Figure size 432x288 with 1 Axes>"
      ]
     },
     "metadata": {
      "needs_background": "light"
     },
     "output_type": "display_data"
    }
   ],
   "source": [
    "#create a new scatter plot where each flower is colored according to cluster label\n",
    "from itertools import cycle\n",
    "labels, cluster_centers, n_clusters = mean_shift(df)\n",
    "\n",
    "fig = plt.figure()\n",
    "ax = fig.add_subplot(111)\n",
    "\n",
    "arr = df.to_numpy()\n",
    "\n",
    "colors = cycle('bgrcmy')\n",
    "for k, col in zip(range(n_clusters), colors):\n",
    "    my_members = (labels == k)\n",
    "    cluster_center = cluster_centers[k]\n",
    "                                                                                                \n",
    "    x, y = arr[my_members,0], arr[my_members,1]\n",
    "    ax.scatter(x, y, c=col, linewidth=0.2)\n",
    "    ax.scatter(cluster_center[0], cluster_center[1], c='k', s=50, linewidth=0.2)\n",
    "    \n",
    "plt.title('Estimated number of clusters: {}'.format(n_clusters))\n",
    "plt.show()\n"
   ]
  },
  {
   "cell_type": "code",
   "execution_count": null,
   "metadata": {},
   "outputs": [],
   "source": []
  }
 ],
 "metadata": {
  "kernelspec": {
   "display_name": "Python 3",
   "language": "python",
   "name": "python3"
  },
  "language_info": {
   "codemirror_mode": {
    "name": "ipython",
    "version": 3
   },
   "file_extension": ".py",
   "mimetype": "text/x-python",
   "name": "python",
   "nbconvert_exporter": "python",
   "pygments_lexer": "ipython3",
   "version": "3.7.6"
  }
 },
 "nbformat": 4,
 "nbformat_minor": 4
}
