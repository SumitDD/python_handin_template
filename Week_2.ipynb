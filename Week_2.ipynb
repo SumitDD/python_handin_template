{
 "cells": [
  {
   "cell_type": "markdown",
   "metadata": {},
   "source": [
    "# Week 2 handin"
   ]
  },
  {
   "cell_type": "markdown",
   "metadata": {},
   "source": [
    "## Exercise 1\n",
    "Create a python file with 3 functions:\n",
    "def print_file_content(file) that can print content of a csv file to the console\n",
    "def write_list_to_file(output_file, lst) that can take a list of tuple and write each element to a new line in file\n",
    "rewrite the function so that it gets an arbitrary number of strings instead of a list\n",
    "def read_csv(input_file) that take a csv file and read each row into a list\n",
    "Add a functionality so that the file can be called from cli with 2 arguments\n",
    "path to csv file\n",
    "an argument --file file_name that if given will write the content to file_name or otherwise will print it to the console.\n",
    "Add a --help cli argument to describe how the module is used"
   ]
  },
  {
   "cell_type": "markdown",
   "metadata": {},
   "source": [
    "## Status\n",
    "Here is a status on the handin. How far you got. What is implemented and what is not"
   ]
  },
  {
   "cell_type": "markdown",
   "metadata": {},
   "source": [
    "## Exercise part 1"
   ]
  },
  {
   "cell_type": "markdown",
   "metadata": {},
   "source": [
    "## 1. def print_file_content(file) that can print content of a csv file to the console"
   ]
  },
  {
   "cell_type": "code",
   "execution_count": 2,
   "metadata": {},
   "outputs": [
    {
     "name": "stdout",
     "output_type": "stream",
     "text": [
      "a,1\n",
      "b,2\n",
      "a,1\n",
      "b,2\n",
      "sumit dey \n"
     ]
    }
   ],
   "source": [
    "import csv\n",
    "filename = './example.csv'\n",
    "\n",
    "def print_file(file_name):\n",
    "    with open(file_name+ \".csv\") as file_object:\n",
    "        contents = file_object.read()\n",
    "        print(contents)\n",
    "\n",
    "print_file(\"example\")"
   ]
  },
  {
   "cell_type": "markdown",
   "metadata": {},
   "source": [
    "## 2. def write_list_to_file(output_file, lst) that can take a list of tuple and write each element to a new line in file"
   ]
  },
  {
   "cell_type": "code",
   "execution_count": null,
   "metadata": {},
   "outputs": [],
   "source": [
    "import csv\n",
    "\n",
    "def write_list_to_file(output_file, lst):\n",
    "    with open(output_file, 'a') as file:\n",
    "        write = csv.writer(file) \n",
    "        for element in lst:\n",
    "            write.writerow(element)\n",
    "        print(lst)\n",
    "\n",
    "fileName = './example.csv'\n",
    "random_list = [(\"a\", \"1\"), (\"b\", \"2\")]\n",
    "write_list_to_file(filename, random_list)"
   ]
  },
  {
   "cell_type": "markdown",
   "metadata": {},
   "source": [
    "## rewrite the function so that it gets an arbitrary number of strings instead of a list"
   ]
  },
  {
   "cell_type": "code",
   "execution_count": null,
   "metadata": {},
   "outputs": [],
   "source": [
    "import csv\n",
    "\n",
    "def write_arb_to_file(output_file, *names):\n",
    "    with open(output_file, 'a') as file_object:\n",
    "        for name in names:\n",
    "            file_object.write(name + ' ')\n",
    "            print(name)\n",
    "        \n",
    "\n",
    "fileName = './example.csv'\n",
    "write_arb_to_file(filename , 'sumit', 'dey')"
   ]
  },
  {
   "cell_type": "markdown",
   "metadata": {},
   "source": [
    "## def read_csv(input_file) that take a csv file and read each row into a list"
   ]
  },
  {
   "cell_type": "code",
   "execution_count": null,
   "metadata": {},
   "outputs": [],
   "source": [
    "import csv\n",
    "\n",
    "def read_csv(input_file):\n",
    "    with open(input_file) as file_object:\n",
    "        lines = file_object.readlines()\n",
    "     \n",
    "    for line in lines:\n",
    "        lines.append(line.rstrip())\n",
    "        print(line)\n",
    "\n",
    "read_csv('./example.csv')"
   ]
  },
  {
   "cell_type": "markdown",
   "metadata": {},
   "source": [
    "## Add a functionality so that the file can be called from cli with 2 arguments"
   ]
  },
  {
   "cell_type": "code",
   "execution_count": 1,
   "metadata": {},
   "outputs": [
    {
     "name": "stdout",
     "output_type": "stream",
     "text": [
      "['/opt/conda/lib/python3.7/site-packages/ipykernel_launcher.py', '-f', '/tmp/kernel-4ba1c000-ee1f-4b87-afaa-d5d96c452e93.json']\n"
     ]
    }
   ],
   "source": [
    "import sys\n",
    "print(sys.argv)"
   ]
  },
  {
   "cell_type": "markdown",
   "metadata": {},
   "source": [
    "## Exercise part 2"
   ]
  },
  {
   "cell_type": "code",
   "execution_count": null,
   "metadata": {},
   "outputs": [],
   "source": []
  },
  {
   "cell_type": "code",
   "execution_count": null,
   "metadata": {},
   "outputs": [],
   "source": []
  },
  {
   "cell_type": "code",
   "execution_count": null,
   "metadata": {},
   "outputs": [],
   "source": []
  }
 ],
 "metadata": {
  "kernelspec": {
   "display_name": "Python 3",
   "language": "python",
   "name": "python3"
  },
  "language_info": {
   "codemirror_mode": {
    "name": "ipython",
    "version": 3
   },
   "file_extension": ".py",
   "mimetype": "text/x-python",
   "name": "python",
   "nbconvert_exporter": "python",
   "pygments_lexer": "ipython3",
   "version": "3.7.6"
  }
 },
 "nbformat": 4,
 "nbformat_minor": 4
}
