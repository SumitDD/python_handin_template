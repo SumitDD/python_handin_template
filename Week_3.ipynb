{
 "cells": [
  {
   "cell_type": "markdown",
   "metadata": {},
   "source": [
    "# Week 3 handin"
   ]
  },
  {
   "cell_type": "markdown",
   "metadata": {},
   "source": [
    "## 01 Assignment\n",
    "Create 3 classes: Student, DataSheet and Course\n",
    "A student has a data_sheet and a data_sheet has multiple courses in particular order\n",
    "Each course has name, classroom, teacher, ETCS and optional grade if course is taken.\n",
    "In Student create init() so that a Student can be initiated with name, gender, data_sheet and image_url\n",
    "In DataSheet create a method to get_grades_as_list()\n",
    "In student create a method: get_avg_grade()\n",
    "Create a function that can generate n number of students with random: name, gender, courses (from a fixed list of course names), grades, img_url\n",
    "Let the function write the result to a csv file with format stud_name, course_name, teacher, ects, classroom, grade, img_url\n",
    "Read student data into a list of Students from a csv file:\n",
    "loop through the list and print each student with name, img_url and avg_grade.\n",
    "sort the list by avg_grade\n",
    "create a bar chart with student_name on x and avg_grade on y-axis\n",
    "Make a method on Student class that can show progression of the study in % (add up ECTS from all passed courses divided by total of 150 total points (equivalent to 5 semesters))\n",
    "Show a bar chart of distribution of study progression on x-axis and number of students in each category on y-axis. (e.g. make 10 categories from 0-100%)\n",
    "Extra: Make the Datasheet class iterable so that next(data_sheet) will return the next course in the list"
   ]
  },
  {
   "cell_type": "markdown",
   "metadata": {},
   "source": [
    "## 02 Status\n",
    "Here is a status on the handin. How far you got. What is implemented and what is not"
   ]
  },
  {
   "cell_type": "markdown",
   "metadata": {},
   "source": [
    "## Solution Exercise 1"
   ]
  },
  {
   "cell_type": "markdown",
   "metadata": {},
   "source": [
    "1. Create 3 classes: Student, DataSheet and Course\n",
    "2. A student has a data_sheet and a data_sheet has multiple courses in particular order\n",
    "3. Each course has name, classroom, teacher, ETCS and optional grade if course is taken.\n",
    "4. In Student create init() so that a Student can be initiated with name, gender, data_sheet and image_url"
   ]
  },
  {
   "cell_type": "code",
   "execution_count": 1,
   "metadata": {},
   "outputs": [
    {
     "name": "stdout",
     "output_type": "stream",
     "text": [
      "Name: Michael Cao image_url:  qjkpduqjcocreen\n",
      " grade: -3.0\n",
      "Name: Jennifer Stephens image_url:  vjgipkqvljodqqj\n",
      " grade: 12.0\n",
      "Name: Patricia Hines image_url:  fvjwrjoxbkisoum\n",
      " grade: 4.0\n",
      "Name: Joseph Jones image_url:  kezizfnxyurspfsStudent name: Jim Duncan, courses: Security, gender: male, teacher: Thomas, ETCS: 20, classroom: D klassen, grade: 00,  grade: -3.0\n",
      "Name: Jules Brown image_url:  qsjodcaebjinvse\n",
      " grade: -3.0\n",
      "Name: Paul Carter image_url:  ejalmmfbleyqsyh\n",
      " grade: 12.0\n",
      "Name: Alma Jones image_url:  hbeurscztuaiknn\n",
      " grade: 0.0\n",
      "Name: Leticia Jackson image_url:  ezywrbuzjiyaukm\n",
      " grade: 4.0\n",
      "Sumit\n"
     ]
    },
    {
     "data": {
      "image/png": "[encoded data removed]",
      "text/plain": [
       "<Figure size 432x288 with 1 Axes>"
      ]
     },
     "metadata": {
      "needs_background": "light"
     },
     "output_type": "display_data"
    }
   ],
   "source": [
    "from modules import exercise1_Week3 as ex1\n",
    "course = ex1.Course(\"Python\", \"d klasse\", \"thomas\", \"20\", 12)\n",
    "data_sheet = ex1.DataSheet([course])\n",
    "student = ex1.Student(\"Sumit\", \"male\", data_sheet, \"http.com\")\n",
    "print(student.name)"
   ]
  },
  {
   "cell_type": "markdown",
   "metadata": {},
   "source": [
    "5. In DataSheet create a method to get_grades_as_list()"
   ]
  },
  {
   "cell_type": "code",
   "execution_count": 2,
   "metadata": {},
   "outputs": [
    {
     "name": "stdout",
     "output_type": "stream",
     "text": [
      "[12, 4]\n"
     ]
    }
   ],
   "source": [
    "from modules import exercise1_Week3 as ex1\n",
    "course = ex1.Course(\"Python\", \"d klasse\", \"thomas\", \"20\", 12)\n",
    "course2 = ex1.Course(\"JS\", \"d klasse\", \"Lars\", \"20\", 4)\n",
    "data_sheet = ex1.DataSheet([course, course2])\n",
    "student = ex1.Student(\"Sumit\", \"male\", data_sheet, \"http.com\")\n",
    "print(student.data_sheet.grades_as_list())"
   ]
  },
  {
   "cell_type": "markdown",
   "metadata": {},
   "source": [
    "6. In student create a method: get_avg_grade()"
   ]
  },
  {
   "cell_type": "code",
   "execution_count": 3,
   "metadata": {},
   "outputs": [
    {
     "name": "stdout",
     "output_type": "stream",
     "text": [
      "8.0\n"
     ]
    }
   ],
   "source": [
    "from modules import exercise1_Week3 as ex1\n",
    "course = ex1.Course(\"Python\", \"d klasse\", \"thomas\", \"20\", 12)\n",
    "course2 = ex1.Course(\"JS\", \"d klasse\", \"Lars\", \"20\", 4)\n",
    "data_sheet = ex1.DataSheet([course, course2])\n",
    "student = ex1.Student(\"Sumit\", \"male\", data_sheet, \"http.com\")\n",
    "print(student.get_avg_grade())"
   ]
  },
  {
   "cell_type": "markdown",
   "metadata": {},
   "source": [
    "7. Create a function that can generate n number of students with random: name, gender, courses (from a fixed list of course names), grades, img_url\n",
    "   Let the function write the result to a csv file with format stud_name, course_name, teacher, ects, classroom, grade, img_url"
   ]
  },
  {
   "cell_type": "code",
   "execution_count": 4,
   "metadata": {},
   "outputs": [],
   "source": [
    "from modules import exercise1_Week3 as ex1\n",
    "ex1.generate_students(5)"
   ]
  },
  {
   "cell_type": "markdown",
   "metadata": {},
   "source": [
    "8. Read student data into a list of Students from a csv file:\n",
    "    loop through the list and print each student with name, img_url and avg_grade.\n",
    "   "
   ]
  },
  {
   "cell_type": "code",
   "execution_count": 5,
   "metadata": {},
   "outputs": [
    {
     "name": "stdout",
     "output_type": "stream",
     "text": [
      "Name: Michael Cao image_url:  qjkpduqjcocreen\n",
      " grade: -3.0\n",
      "Name: Jennifer Stephens image_url:  vjgipkqvljodqqj\n",
      " grade: 12.0\n",
      "Name: Patricia Hines image_url:  fvjwrjoxbkisoum\n",
      " grade: 4.0\n",
      "Name: Joseph Jones image_url:  kezizfnxyurspfsStudent name: Jim Duncan, courses: Security, gender: male, teacher: Thomas, ETCS: 20, classroom: D klassen, grade: 00,  grade: -3.0\n",
      "Name: Jules Brown image_url:  qsjodcaebjinvse\n",
      " grade: -3.0\n",
      "Name: Paul Carter image_url:  ejalmmfbleyqsyh\n",
      " grade: 12.0\n",
      "Name: Alma Jones image_url:  hbeurscztuaiknn\n",
      " grade: 0.0\n",
      "Name: Leticia Jackson image_url:  ezywrbuzjiyaukm\n",
      " grade: 4.0\n",
      "Name: Clarence Haley image_url:  dxxojkqehysyfys\n",
      " grade: 4.0\n",
      "Name: Jeanette Otto image_url:  gaqjyvdbqfgrnoj\n",
      " grade: 2.0\n",
      "Name: John Nickels image_url:  skkhrafhgjftlhd\n",
      " grade: 0.0\n",
      "Name: Anthony Moses image_url:  lldhlpgminbbfow\n",
      " grade: -3.0\n",
      "Name: Ashley Cheney image_url:  pydzmzafepvoevy\n",
      " grade: 4.0\n"
     ]
    }
   ],
   "source": [
    "from modules import exercise1_Week3 as ex1\n",
    "ex1.print_students()"
   ]
  },
  {
   "cell_type": "markdown",
   "metadata": {},
   "source": [
    "sort the list by avg_grade"
   ]
  },
  {
   "cell_type": "code",
   "execution_count": 6,
   "metadata": {},
   "outputs": [
    {
     "name": "stdout",
     "output_type": "stream",
     "text": [
      "12.0\n",
      "12.0\n",
      "4.0\n",
      "4.0\n",
      "4.0\n",
      "4.0\n",
      "2.0\n",
      "0.0\n",
      "0.0\n",
      "-3.0\n",
      "-3.0\n",
      "-3.0\n",
      "-3.0\n"
     ]
    }
   ],
   "source": [
    "from modules import exercise1_Week3 as ex1\n",
    "ex1.sort_avg_grade()"
   ]
  },
  {
   "cell_type": "markdown",
   "metadata": {},
   "source": [
    "create a bar chart with student_name on x and avg_grade on y-axis"
   ]
  },
  {
   "cell_type": "code",
   "execution_count": 7,
   "metadata": {},
   "outputs": [
    {
     "data": {
      "image/png": "[encoded data removed]",
      "text/plain": [
       "<Figure size 432x288 with 1 Axes>"
      ]
     },
     "metadata": {
      "needs_background": "light"
     },
     "output_type": "display_data"
    }
   ],
   "source": [
    "from modules import exercise1_Week3 as ex1\n",
    "ex1.create_bar_chart()"
   ]
  },
  {
   "cell_type": "markdown",
   "metadata": {},
   "source": [
    "9. Make a method on Student class that can show progression of the study in % (add up ECTS from all passed courses divided by total of 150 total points (equivalent to 5 semesters))"
   ]
  },
  {
   "cell_type": "code",
   "execution_count": 8,
   "metadata": {},
   "outputs": [
    {
     "name": "stdout",
     "output_type": "stream",
     "text": [
      "0.26666666666666666\n"
     ]
    }
   ],
   "source": [
    "from modules import exercise1_Week3 as ex1\n",
    "course = ex1.Course(\"Python\", \"d klasse\", \"thomas\", \"20\", 12)\n",
    "course2 = ex1.Course(\"JS\", \"d klasse\", \"Lars\", \"20\", 4)\n",
    "data_sheet = ex1.DataSheet([course, course2])\n",
    "student = ex1.Student(\"Sumit\", \"male\", data_sheet, \"http.com\")\n",
    "print(student.progression_ETCS())"
   ]
  },
  {
   "cell_type": "markdown",
   "metadata": {},
   "source": [
    "10. Show a bar chart of distribution of study progression on x-axis and number of students in each category on y-axis. (e.g. make 10 categories from 0-100%)"
   ]
  },
  {
   "cell_type": "code",
   "execution_count": 14,
   "metadata": {},
   "outputs": [
    {
     "data": {
      "image/png": "[encoded data removed]",
      "text/plain": [
       "<Figure size 432x288 with 1 Axes>"
      ]
     },
     "metadata": {
      "needs_background": "light"
     },
     "output_type": "display_data"
    }
   ],
   "source": [
    "from modules import exercise1_Week3 as ex1\n",
    "ex1.create_barchat_study_progression()\n",
    "##Koden virker ikke lige pt. Chart er blank"
   ]
  },
  {
   "cell_type": "markdown",
   "metadata": {},
   "source": [
    "## 04 Solution part 2"
   ]
  },
  {
   "cell_type": "code",
   "execution_count": null,
   "metadata": {},
   "outputs": [],
   "source": []
  }
 ],
 "metadata": {
  "kernelspec": {
   "display_name": "Python 3",
   "language": "python",
   "name": "python3"
  },
  "language_info": {
   "codemirror_mode": {
    "name": "ipython",
    "version": 3
   },
   "file_extension": ".py",
   "mimetype": "text/x-python",
   "name": "python",
   "nbconvert_exporter": "python",
   "pygments_lexer": "ipython3",
   "version": "3.7.6"
  }
 },
 "nbformat": 4,
 "nbformat_minor": 4
}
